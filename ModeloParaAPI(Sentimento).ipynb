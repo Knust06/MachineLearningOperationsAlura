{
  "nbformat": 4,
  "nbformat_minor": 0,
  "metadata": {
    "colab": {
      "provenance": []
    },
    "kernelspec": {
      "name": "python3",
      "display_name": "Python 3"
    },
    "language_info": {
      "name": "python"
    }
  },
  "cells": [
    {
      "cell_type": "code",
      "execution_count": 3,
      "metadata": {
        "id": "Lkv47hkPPi0A"
      },
      "outputs": [],
      "source": [
        "from textblob import TextBlob\n",
        "frase = \"Python é bom para Machine Learning\"\n",
        "tb = TextBlob(frase)"
      ]
    },
    {
      "cell_type": "code",
      "source": [
        "tb_en = tb.translate(from_lang='pt_br', to='en')\n",
        "tb_en.sentiment.polarity"
      ],
      "metadata": {
        "colab": {
          "base_uri": "https://localhost:8080/"
        },
        "id": "l7w5N1yDQMaN",
        "outputId": "e636d374-ab6d-475d-b5c4-8ea32b061310"
      },
      "execution_count": 7,
      "outputs": [
        {
          "output_type": "execute_result",
          "data": {
            "text/plain": [
              "0.7"
            ]
          },
          "metadata": {},
          "execution_count": 7
        }
      ]
    },
    {
      "cell_type": "code",
      "source": [],
      "metadata": {
        "id": "tjyAlSUuQgXK"
      },
      "execution_count": null,
      "outputs": []
    }
  ]
}